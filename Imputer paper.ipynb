{
 "cells": [
  {
   "cell_type": "code",
   "execution_count": 14,
   "id": "1bb8069f",
   "metadata": {
    "vscode": {
     "languageId": "r"
    }
   },
   "outputs": [],
   "source": [
    "#' Custom Imputation Function: Enhanced Gower-kPrototypes Predictive Mean Matching\n",
    "#'\n",
    "#' This function implements a custom imputation method that integrates Gower's distance\n",
    "#' for refined donor selection within a PMM framework. This final, robust version validates\n",
    "#' model compatibility to prevent crashes from incorrect user specifications.\n",
    "#'\n",
    "#' @param y The vector of the target variable (with NAs).\n",
    "#' @param ry A logical vector indicating observed (TRUE) or missing (FALSE) values in `y`.\n",
    "#' @param x A matrix of predictor variables for `y`.\n",
    "#' @param donors The number of nearest neighbors (donors) for final imputation.\n",
    "#' @param k_pre_clusters The number of clusters for optional k-prototypes pre-clustering.\n",
    "#'                       Set to 0 to disable.\n",
    "#' @param predictive_model A string specifying the predictive model for the initial PMM step.\n",
    "#'                         Options: \"auto\", \"lm\", \"logit\", \"polr\", \"multinom\".\n",
    "#'                         Default is \"auto\".\n",
    "#' @param pmm_pool_factor A numeric factor to determine the size of the initial PMM candidate pool.\n",
    "#'                        Default is 5.\n",
    "#' @param ... Additional arguments.\n",
    "#'\n",
    "#' @return A vector of imputed values for the missing entries in `y`.\n",
    "#'\n",
    "mice.impute.gkp_pmm <- function(y, ry, x, donors = 5, k_pre_clusters = 0, \n",
    "                                predictive_model = \"auto\", pmm_pool_factor = 5, ...) {\n",
    "\n",
    "  # --- 1. Prepare data for imputation ---\n",
    "  x_donors_df <- as.data.frame(x[ry, , drop = FALSE])\n",
    "  y_donors <- y[ry]\n",
    "  x_recipients_df <- as.data.frame(x[!ry, , drop = FALSE])\n",
    "  \n",
    "  if (nrow(x_recipients_df) == 0) {\n",
    "    return(y[!ry])\n",
    "  }\n",
    "\n",
    "  # --- 2. Train a predictive model ---\n",
    "  model_type <- predictive_model\n",
    "  if (model_type == \"auto\") {\n",
    "    if (is.numeric(y)) model_type <- \"lm\"\n",
    "    else if (is.factor(y) && nlevels(y) == 2) model_type <- \"logit\"\n",
    "    else if (is.ordered(y)) model_type <- \"polr\"\n",
    "    else if (is.factor(y) && !is.ordered(y) && nlevels(y) > 2) model_type <- \"multinom\"\n",
    "    else model_type <- \"lm\" # Fallback for other data types\n",
    "  }\n",
    "\n",
    "  # *** NEW: Validate user-specified model against y's data type ***\n",
    "  # If the model is incompatible, warn the user and fall back to \"lm\".\n",
    "  if (model_type == \"polr\" && !is.ordered(y)) {\n",
    "    warning(paste0(\"'polr' model requested for non-ordered variable. Falling back to 'lm'.\"), call. = FALSE)\n",
    "    model_type <- \"lm\"\n",
    "  } else if (model_type == \"logit\" && (!is.factor(y) || nlevels(y) != 2)) {\n",
    "    warning(paste0(\"'logit' model requested for a non-binary variable. Falling back to 'lm'.\"), call. = FALSE)\n",
    "    model_type <- \"lm\"\n",
    "  } else if (model_type == \"multinom\" && (!is.factor(y) || nlevels(y) <= 2)) {\n",
    "    warning(paste0(\"'multinom' model requested for a variable that is not a factor with >2 levels. Falling back to 'lm'.\"), call. = FALSE)\n",
    "    model_type <- \"lm\"\n",
    "  } else if (model_type %in% c(\"polr\", \"logit\", \"multinom\") && !is.factor(y)) {\n",
    "      warning(paste0(\"'\", model_type, \"' model requested for a non-factor variable. Falling back to 'lm'.\"), call. = FALSE)\n",
    "      model_type <- \"lm\"\n",
    "  }\n",
    "\n",
    "\n",
    "  fit_data <- data.frame(y_target = y_donors)\n",
    "  fit_data <- cbind(fit_data, x_donors_df)\n",
    "  \n",
    "  if (length(unique(y_donors)) < 2) {\n",
    "      warning(\"Target 'y' has fewer than 2 unique levels. Falling back to random sampling from observed.\", call. = FALSE)\n",
    "      return(sample(y_donors, nrow(x_recipients_df), replace = TRUE))\n",
    "  }\n",
    "\n",
    "  switch(model_type,\n",
    "    \"lm\" = {\n",
    "      fit_data$y_target <- as.numeric(fit_data$y_target)\n",
    "      if (var(fit_data$y_target, na.rm = TRUE) == 0) {\n",
    "        return(sample(y_donors, nrow(x_recipients_df), replace = TRUE))\n",
    "      }\n",
    "      fit <- lm(y_target ~ ., data = fit_data)\n",
    "      y_pred_donors <- predict(fit, newdata = x_donors_df)\n",
    "      y_pred_recipients <- predict(fit, newdata = x_recipients_df)\n",
    "    },\n",
    "    \"logit\" = {\n",
    "      fit <- glm(y_target ~ ., data = fit_data, family = \"binomial\")\n",
    "      y_pred_donors <- predict(fit, newdata = x_donors_df, type = \"response\")\n",
    "      y_pred_recipients <- predict(fit, newdata = x_recipients_df, type = \"response\")\n",
    "    },\n",
    "    \"polr\" = {\n",
    "      fit <- MASS::polr(y_target ~ ., data = fit_data)\n",
    "      ranks <- 1:nlevels(y_donors)\n",
    "      pred_probs_donors <- predict(fit, newdata = x_donors_df, type = \"probs\")\n",
    "      pred_probs_recipients <- predict(fit, newdata = x_recipients_df, type = \"probs\")\n",
    "      y_pred_donors <- as.numeric(pred_probs_donors %*% ranks)\n",
    "      y_pred_recipients <- as.numeric(pred_probs_recipients %*% ranks)\n",
    "    },\n",
    "    \"multinom\" = {\n",
    "      fit <- nnet::multinom(y_target ~ ., data = fit_data, trace = FALSE)\n",
    "      ranks <- 1:nlevels(y_donors)\n",
    "      pred_probs_donors <- predict(fit, newdata = x_donors_df, type = \"probs\")\n",
    "      pred_probs_recipients <- predict(fit, newdata = x_recipients_df, type = \"probs\")\n",
    "      if (is.vector(pred_probs_donors)) pred_probs_donors <- matrix(pred_probs_donors, nrow = 1)\n",
    "      if (is.vector(pred_probs_recipients)) pred_probs_recipients <- matrix(pred_probs_recipients, nrow = 1)\n",
    "      y_pred_donors <- as.numeric(pred_probs_donors %*% ranks)\n",
    "      y_pred_recipients <- as.numeric(pred_probs_recipients %*% ranks)\n",
    "    },\n",
    "    {\n",
    "      warning(paste(\"Invalid predictive_model '\", model_type, \"'. Defaulting to 'lm'.\", sep=\"\"), call. = FALSE)\n",
    "      fit_data$y_target <- as.numeric(fit_data$y_target)\n",
    "      if (var(fit_data$y_target, na.rm = TRUE) == 0) {\n",
    "        return(sample(y_donors, nrow(x_recipients_df), replace = TRUE))\n",
    "      }\n",
    "      fit <- lm(y_target ~ ., data = fit_data)\n",
    "      y_pred_donors <- predict(fit, newdata = x_donors_df)\n",
    "      y_pred_recipients <- predict(fit, newdata = x_recipients_df)\n",
    "    }\n",
    "  )\n",
    "\n",
    "  # --- 3. Optional Pre-Clustering ---\n",
    "  if (k_pre_clusters > 0 && nrow(x_donors_df) >= k_pre_clusters) {\n",
    "    data_for_clustering <- rbind(x_donors_df, x_recipients_df)\n",
    "    for(col_name in colnames(data_for_clustering)) {\n",
    "      if (is.character(data_for_clustering[[col_name]])) {\n",
    "        data_for_clustering[[col_name]] <- as.factor(data_for_clustering[[col_name]])\n",
    "      }\n",
    "    }\n",
    "    kproto_fit <- clustMixType::kproto(data_for_clustering, k = k_pre_clusters, nstart = 1, type = \"gower\", verbose = FALSE)\n",
    "    donor_clusters <- kproto_fit$cluster[1:nrow(x_donors_df)]\n",
    "    recipient_clusters <- kproto_fit$cluster[(nrow(x_donors_df) + 1):nrow(data_for_clustering)]\n",
    "    filtered_x_donors_list <- vector(\"list\", nrow(x_recipients_df)); filtered_y_donors_list <- vector(\"list\", nrow(x_recipients_df)); filtered_y_pred_donors_list <- vector(\"list\", nrow(x_recipients_df))\n",
    "    for (i in 1:nrow(x_recipients_df)) {\n",
    "      current_recipient_cluster <- recipient_clusters[i]\n",
    "      cluster_donors_idx <- which(donor_clusters == current_recipient_cluster)\n",
    "      if (length(cluster_donors_idx) > 0) {\n",
    "        filtered_x_donors_list[[i]] <- x_donors_df[cluster_donors_idx, , drop = FALSE]\n",
    "        filtered_y_donors_list[[i]] <- y_donors[cluster_donors_idx]\n",
    "        filtered_y_pred_donors_list[[i]] <- y_pred_donors[cluster_donors_idx]\n",
    "      } else {\n",
    "        filtered_x_donors_list[[i]] <- x_donors_df; filtered_y_donors_list[[i]] <- y_donors; filtered_y_pred_donors_list[[i]] <- y_pred_donors\n",
    "      }\n",
    "    }\n",
    "  } else {\n",
    "    filtered_x_donors_list <- rep(list(x_donors_df), nrow(x_recipients_df)); filtered_y_donors_list <- rep(list(y_donors), nrow(x_recipients_df)); filtered_y_pred_donors_list <- rep(list(y_pred_donors), nrow(x_recipients_df))\n",
    "  }\n",
    "\n",
    "  # --- 4. Enhanced Donor Identification and Imputation ---\n",
    "  imputed_values <- vector(\"list\", length = nrow(x_recipients_df))\n",
    "\n",
    "  for (i in 1:nrow(x_recipients_df)) {\n",
    "    current_recipient_x <- x_recipients_df[i, , drop = FALSE]\n",
    "    current_recipient_y_pred <- y_pred_recipients[i]\n",
    "    current_donors_x_df <- filtered_x_donors_list[[i]]\n",
    "    current_donors_y <- filtered_y_donors_list[[i]]\n",
    "    current_donors_y_pred <- filtered_y_pred_donors_list[[i]]\n",
    "\n",
    "    if (nrow(current_donors_x_df) == 0) {\n",
    "      warning(\"No donors available for a recipient. Using random sample from all original observed y.\", call. = FALSE)\n",
    "      imputed_val <- sample(y_donors, 1)\n",
    "    } else {\n",
    "      pred_diffs <- abs(current_donors_y_pred - current_recipient_y_pred)\n",
    "      initial_pool_size <- min(max(donors * pmm_pool_factor, 10), nrow(current_donors_x_df))\n",
    "      ordered_donors_idx_by_pred <- order(pred_diffs, decreasing = FALSE, na.last = TRUE)\n",
    "      initial_donors_local_idx <- head(ordered_donors_idx_by_pred, initial_pool_size)\n",
    "      x_initial_donors_pool <- current_donors_x_df[initial_donors_local_idx, , drop = FALSE]\n",
    "      y_initial_donors_pool <- current_donors_y[initial_donors_local_idx]\n",
    "      combined_data_for_gower <- rbind(current_recipient_x, x_initial_donors_pool)\n",
    "      valid_cols_for_gower <- sapply(combined_data_for_gower, function(col) length(unique(stats::na.omit(col))) > 1)\n",
    "      \n",
    "      if (sum(valid_cols_for_gower) == 0) {\n",
    "        warning(\"No valid columns for Gower's distance. Falling back to simple PMM.\", call. = FALSE)\n",
    "        selected_donor_local_idx <- sample(initial_donors_local_idx, 1)\n",
    "        imputed_val <- current_donors_y[selected_donor_local_idx]\n",
    "      } else {\n",
    "        gower_dist_matrix <- suppressWarnings(cluster::daisy(\n",
    "            combined_data_for_gower[, valid_cols_for_gower, drop = FALSE], \n",
    "            metric = \"gower\", \n",
    "            stand = TRUE)\n",
    "        )\n",
    "        gower_distances <- as.matrix(gower_dist_matrix)[1, -1]\n",
    "        gower_distances[is.na(gower_distances)] <- max(gower_distances, na.rm = TRUE) + 1\n",
    "        num_final_donors <- min(donors, length(gower_distances))\n",
    "        final_donors_local_idx_in_pool <- head(order(gower_distances, decreasing = FALSE, na.last = TRUE), num_final_donors)\n",
    "        selected_donor_local_idx <- sample(final_donors_local_idx_in_pool, 1)\n",
    "        imputed_val <- y_initial_donors_pool[selected_donor_local_idx]\n",
    "      }\n",
    "    }\n",
    "    \n",
    "    imputed_values[[i]] <- imputed_val\n",
    "  }\n",
    "  \n",
    "  return(do.call(c, imputed_values))\n",
    "}"
   ]
  },
  {
   "cell_type": "markdown",
   "id": "cdc5104b",
   "metadata": {},
   "source": []
  },
  {
   "cell_type": "code",
   "execution_count": 24,
   "id": "60048994",
   "metadata": {
    "vscode": {
     "languageId": "r"
    }
   },
   "outputs": [
    {
     "name": "stdout",
     "output_type": "stream",
     "text": [
      "Missing data pattern:\n",
      "   id Age MaritalStatus Education Income HealthStatus    \n",
      "21  1   1             1         1      1            1   0\n",
      "13  1   1             1         1      1            0   1\n",
      "16  1   1             1         1      0            1   1\n",
      "3   1   1             1         1      0            0   2\n",
      "14  1   1             1         0      1            1   1\n",
      "2   1   1             1         0      1            0   2\n",
      "1   1   1             1         0      0            1   2\n",
      "7   1   1             0         1      1            1   1\n",
      "5   1   1             0         1      1            0   2\n",
      "2   1   1             0         1      0            1   2\n",
      "4   1   1             0         0      1            1   2\n",
      "2   1   1             0         0      0            1   3\n",
      "4   1   0             1         1      1            1   1\n",
      "2   1   0             1         1      1            0   2\n",
      "1   1   0             1         1      0            1   2\n",
      "1   1   0             1         1      0            0   3\n",
      "1   1   0             0         1      1            1   2\n",
      "1   1   0             0         1      1            0   3\n",
      "    0  10            22        23     26           27 108\n",
      "\n",
      "Starting MICE imputation with 'auto' model selection...\n",
      "\n",
      " iter imp variable\n",
      "  1   1  Age  Income  Education  MaritalStatus  HealthStatus\n",
      "  1   2  Age  Income  Education  MaritalStatus  HealthStatus\n",
      "  1   3  Age  Income  Education  MaritalStatus  HealthStatus\n",
      "  2   1  Age  Income  Education  MaritalStatus  HealthStatus\n",
      "  2   2  Age  Income  Education  MaritalStatus  HealthStatus\n",
      "  2   3  Age  Income  Education  MaritalStatus  HealthStatus\n",
      "  3   1  Age  Income  Education  MaritalStatus  HealthStatus\n",
      "  3   2  Age  Income  Education  MaritalStatus  HealthStatus\n",
      "  3   3  Age  Income  Education  MaritalStatus  HealthStatus\n",
      "\n",
      "'auto' imputation completed.\n",
      "  id Age Income Education MaritalStatus HealthStatus\n",
      "1  1  48  70000   Masters       Married    Excellent\n",
      "2  2  32  70000   Masters        Single         Fair\n",
      "3  3  31  30000   Masters       Married    Very Good\n",
      "4  4  20  70000   Masters      Divorced         Fair\n",
      "5  5  45  30000 Bachelors      Divorced         Poor\n",
      "6  6  60  30000 Bachelors       Married         Good\n",
      "\n",
      "Starting MICE with fine-tuned parameters for specific variables...\n",
      "\n",
      " iter imp variable\n",
      "  1   1  Age"
     ]
    },
    {
     "name": "stderr",
     "output_type": "stream",
     "text": [
      "Warning message:\n",
      "\"'polr' model requested for non-ordered variable. Falling back to 'lm'.\"\n"
     ]
    },
    {
     "name": "stdout",
     "output_type": "stream",
     "text": [
      "  Income"
     ]
    },
    {
     "name": "stderr",
     "output_type": "stream",
     "text": [
      "Warning message:\n",
      "\"'polr' model requested for non-ordered variable. Falling back to 'lm'.\"\n"
     ]
    },
    {
     "name": "stdout",
     "output_type": "stream",
     "text": [
      "  Education"
     ]
    },
    {
     "name": "stderr",
     "output_type": "stream",
     "text": [
      "Warning message:\n",
      "\"'polr' model requested for non-ordered variable. Falling back to 'lm'.\"\n"
     ]
    },
    {
     "name": "stdout",
     "output_type": "stream",
     "text": [
      "  MaritalStatus  HealthStatus\n",
      "  1   2  Age"
     ]
    },
    {
     "name": "stderr",
     "output_type": "stream",
     "text": [
      "Warning message:\n",
      "\"'polr' model requested for non-ordered variable. Falling back to 'lm'.\"\n"
     ]
    },
    {
     "name": "stdout",
     "output_type": "stream",
     "text": [
      "  Income"
     ]
    },
    {
     "name": "stderr",
     "output_type": "stream",
     "text": [
      "Warning message:\n",
      "\"'polr' model requested for non-ordered variable. Falling back to 'lm'.\"\n"
     ]
    },
    {
     "name": "stdout",
     "output_type": "stream",
     "text": [
      "  Education"
     ]
    },
    {
     "name": "stderr",
     "output_type": "stream",
     "text": [
      "Warning message:\n",
      "\"'polr' model requested for non-ordered variable. Falling back to 'lm'.\"\n"
     ]
    },
    {
     "name": "stdout",
     "output_type": "stream",
     "text": [
      "  MaritalStatus  HealthStatus\n",
      "  1   3  Age"
     ]
    },
    {
     "name": "stderr",
     "output_type": "stream",
     "text": [
      "Warning message:\n",
      "\"'polr' model requested for non-ordered variable. Falling back to 'lm'.\"\n"
     ]
    },
    {
     "name": "stdout",
     "output_type": "stream",
     "text": [
      "  Income"
     ]
    },
    {
     "name": "stderr",
     "output_type": "stream",
     "text": [
      "Warning message:\n",
      "\"'polr' model requested for non-ordered variable. Falling back to 'lm'.\"\n"
     ]
    },
    {
     "name": "stdout",
     "output_type": "stream",
     "text": [
      "  Education"
     ]
    },
    {
     "name": "stderr",
     "output_type": "stream",
     "text": [
      "Warning message:\n",
      "\"'polr' model requested for non-ordered variable. Falling back to 'lm'.\"\n"
     ]
    },
    {
     "name": "stdout",
     "output_type": "stream",
     "text": [
      "  MaritalStatus  HealthStatus\n",
      "  2   1  Age"
     ]
    },
    {
     "name": "stderr",
     "output_type": "stream",
     "text": [
      "Warning message:\n",
      "\"'polr' model requested for non-ordered variable. Falling back to 'lm'.\"\n"
     ]
    },
    {
     "name": "stdout",
     "output_type": "stream",
     "text": [
      "  Income"
     ]
    },
    {
     "name": "stderr",
     "output_type": "stream",
     "text": [
      "Warning message:\n",
      "\"'polr' model requested for non-ordered variable. Falling back to 'lm'.\"\n"
     ]
    },
    {
     "name": "stdout",
     "output_type": "stream",
     "text": [
      "  Education"
     ]
    },
    {
     "name": "stderr",
     "output_type": "stream",
     "text": [
      "Warning message:\n",
      "\"'polr' model requested for non-ordered variable. Falling back to 'lm'.\"\n"
     ]
    },
    {
     "name": "stdout",
     "output_type": "stream",
     "text": [
      "  MaritalStatus  HealthStatus\n",
      "  2   2  Age"
     ]
    },
    {
     "name": "stderr",
     "output_type": "stream",
     "text": [
      "Warning message:\n",
      "\"'polr' model requested for non-ordered variable. Falling back to 'lm'.\"\n"
     ]
    },
    {
     "name": "stdout",
     "output_type": "stream",
     "text": [
      "  Income"
     ]
    },
    {
     "name": "stderr",
     "output_type": "stream",
     "text": [
      "Warning message:\n",
      "\"'polr' model requested for non-ordered variable. Falling back to 'lm'.\"\n"
     ]
    },
    {
     "name": "stdout",
     "output_type": "stream",
     "text": [
      "  Education"
     ]
    },
    {
     "name": "stderr",
     "output_type": "stream",
     "text": [
      "Warning message:\n",
      "\"'polr' model requested for non-ordered variable. Falling back to 'lm'.\"\n"
     ]
    },
    {
     "name": "stdout",
     "output_type": "stream",
     "text": [
      "  MaritalStatus  HealthStatus\n",
      "  2   3  Age"
     ]
    },
    {
     "name": "stderr",
     "output_type": "stream",
     "text": [
      "Warning message:\n",
      "\"'polr' model requested for non-ordered variable. Falling back to 'lm'.\"\n"
     ]
    },
    {
     "name": "stdout",
     "output_type": "stream",
     "text": [
      "  Income"
     ]
    },
    {
     "name": "stderr",
     "output_type": "stream",
     "text": [
      "Warning message:\n",
      "\"'polr' model requested for non-ordered variable. Falling back to 'lm'.\"\n"
     ]
    },
    {
     "name": "stdout",
     "output_type": "stream",
     "text": [
      "  Education"
     ]
    },
    {
     "name": "stderr",
     "output_type": "stream",
     "text": [
      "Warning message:\n",
      "\"'polr' model requested for non-ordered variable. Falling back to 'lm'.\"\n"
     ]
    },
    {
     "name": "stdout",
     "output_type": "stream",
     "text": [
      "  MaritalStatus  HealthStatus\n",
      "  3   1  Age"
     ]
    },
    {
     "name": "stderr",
     "output_type": "stream",
     "text": [
      "Warning message:\n",
      "\"'polr' model requested for non-ordered variable. Falling back to 'lm'.\"\n"
     ]
    },
    {
     "name": "stdout",
     "output_type": "stream",
     "text": [
      "  Income"
     ]
    },
    {
     "name": "stderr",
     "output_type": "stream",
     "text": [
      "Warning message:\n",
      "\"'polr' model requested for non-ordered variable. Falling back to 'lm'.\"\n"
     ]
    },
    {
     "name": "stdout",
     "output_type": "stream",
     "text": [
      "  Education"
     ]
    },
    {
     "name": "stderr",
     "output_type": "stream",
     "text": [
      "Warning message:\n",
      "\"'polr' model requested for non-ordered variable. Falling back to 'lm'.\"\n"
     ]
    },
    {
     "name": "stdout",
     "output_type": "stream",
     "text": [
      "  MaritalStatus  HealthStatus\n",
      "  3   2  Age"
     ]
    },
    {
     "name": "stderr",
     "output_type": "stream",
     "text": [
      "Warning message:\n",
      "\"'polr' model requested for non-ordered variable. Falling back to 'lm'.\"\n"
     ]
    },
    {
     "name": "stdout",
     "output_type": "stream",
     "text": [
      "  Income"
     ]
    },
    {
     "name": "stderr",
     "output_type": "stream",
     "text": [
      "Warning message:\n",
      "\"'polr' model requested for non-ordered variable. Falling back to 'lm'.\"\n"
     ]
    },
    {
     "name": "stdout",
     "output_type": "stream",
     "text": [
      "  Education"
     ]
    },
    {
     "name": "stderr",
     "output_type": "stream",
     "text": [
      "Warning message:\n",
      "\"'polr' model requested for non-ordered variable. Falling back to 'lm'.\"\n"
     ]
    },
    {
     "name": "stdout",
     "output_type": "stream",
     "text": [
      "  MaritalStatus  HealthStatus\n",
      "  3   3  Age"
     ]
    },
    {
     "name": "stderr",
     "output_type": "stream",
     "text": [
      "Warning message:\n",
      "\"'polr' model requested for non-ordered variable. Falling back to 'lm'.\"\n"
     ]
    },
    {
     "name": "stdout",
     "output_type": "stream",
     "text": [
      "  Income"
     ]
    },
    {
     "name": "stderr",
     "output_type": "stream",
     "text": [
      "Warning message:\n",
      "\"'polr' model requested for non-ordered variable. Falling back to 'lm'.\"\n"
     ]
    },
    {
     "name": "stdout",
     "output_type": "stream",
     "text": [
      "  Education"
     ]
    },
    {
     "name": "stderr",
     "output_type": "stream",
     "text": [
      "Warning message:\n",
      "\"'polr' model requested for non-ordered variable. Falling back to 'lm'.\"\n"
     ]
    },
    {
     "name": "stdout",
     "output_type": "stream",
     "text": [
      "  MaritalStatus  HealthStatus\n",
      "\n",
      "Tuned imputation completed.\n",
      "Note: The 'polr' model was used for all variables being imputed with gkp_pmm.\n",
      "  id Age Income   Education MaritalStatus HealthStatus\n",
      "1  1  48  70000 High School        Single    Excellent\n",
      "2  2  32  70000     Masters        Single    Excellent\n",
      "3  3  31  30000     Masters       Married    Very Good\n",
      "4  4  20  70000     Masters      Divorced         Fair\n",
      "5  5  33  30000   Bachelors      Divorced         Poor\n",
      "6  6  60  70000   Bachelors       Married         Good\n"
     ]
    },
    {
     "data": {
      "image/png": "[encoded data removed]",
      "text/plain": [
       "plot without title"
      ]
     },
     "metadata": {
      "image/png": {
       "height": 420,
       "width": 420
      }
     },
     "output_type": "display_data"
    }
   ],
   "source": [
    "# Load libraries (ensure they are installed)\n",
    "library(mice)\n",
    "library(cluster)\n",
    "library(clustMixType)\n",
    "library(MASS)\n",
    "library(nnet)\n",
    "library(ranger)\n",
    "\n",
    "# 1. Create the same sample dataset as before\n",
    "set.seed(123)\n",
    "N_rows <- 100\n",
    "D_incomplete <- data.frame(\n",
    "  id = 1:N_rows,\n",
    "  Age = sample(18:65, N_rows, replace = TRUE),\n",
    "  Income = sample(c(20000, 30000, 50000, 70000, NA), N_rows, replace = TRUE, prob = c(0.2, 0.2, 0.3, 0.2, 0.1)),\n",
    "  Education = factor(sample(c(\"High School\", \"Bachelors\", \"Masters\", NA), N_rows, replace = TRUE, prob = c(0.25, 0.35, 0.3, 0.1))),\n",
    "  MaritalStatus = ordered(sample(c(\"Single\", \"Married\", \"Divorced\", NA), N_rows, replace = TRUE, prob = c(0.3, 0.4, 0.2, 0.1))),\n",
    "  HealthStatus = ordered(sample(c(1, 2, 3, 4, 5, NA), N_rows, replace = TRUE, prob = c(0.1, 0.2, 0.3, 0.2, 0.1, 0.1)),\n",
    "                         levels = 1:5, labels = c(\"Poor\", \"Fair\", \"Good\", \"Very Good\", \"Excellent\"))\n",
    ")\n",
    "# Introduce more NAs\n",
    "D_incomplete$Age[sample(N_rows, 10)] <- NA\n",
    "D_incomplete$Income[sample(N_rows, 20)] <- NA\n",
    "D_incomplete$Education[sample(N_rows, 15)] <- NA\n",
    "D_incomplete$MaritalStatus[sample(N_rows, 12)] <- NA\n",
    "D_incomplete$HealthStatus[sample(N_rows, 18)] <- NA\n",
    "\n",
    "cat(\"Missing data pattern:\\n\")\n",
    "print(mice::md.pattern(D_incomplete))\n",
    "\n",
    "# 2. Set up MICE imputation\n",
    "predictor_matrix <- mice::quickpred(D_incomplete, exclude = \"id\", mincor = 0.1)\n",
    "predictor_matrix[, \"id\"] <- 0\n",
    "predictor_matrix[\"id\", ] <- 0\n",
    "\n",
    "# Specify the custom method for all variables\n",
    "# The function will automatically select the best predictive model for each variable\n",
    "method_vector <- rep(\"gkp_pmm\", ncol(D_incomplete))\n",
    "names(method_vector) <- colnames(D_incomplete)\n",
    "method_vector[\"id\"] <- \"\"\n",
    "\n",
    "# Example 1: Using \"auto\" model selection and default parameters\n",
    "cat(\"\\nStarting MICE imputation with 'auto' model selection...\\n\")\n",
    "imputed_data_auto <- mice(\n",
    "  data = D_incomplete,\n",
    "  m = 3, maxit = 3,\n",
    "  method = method_vector,\n",
    "  predictorMatrix = predictor_matrix,\n",
    "  donors = 5,\n",
    "  k_pre_clusters = 3,\n",
    "  predictive_model = \"auto\", # Default, but explicit here for clarity\n",
    "  pmm_pool_factor = 5,      # Default\n",
    "  printFlag = TRUE,\n",
    "  seed = 42\n",
    ")\n",
    "cat(\"\\n'auto' imputation completed.\\n\")\n",
    "print(head(complete(imputed_data_auto, 1)))\n",
    "\n",
    "\n",
    "# Example 2: Manually specifying models and parameters for fine-tuning\n",
    "cat(\"\\nStarting MICE with fine-tuned parameters for specific variables...\\n\")\n",
    "\n",
    "# Create a custom method list to specify different parameters per variable\n",
    "# We want to use 'polr' for HealthStatus and a larger PMM pool for it.\n",
    "# The rest will use the default 'gkp_pmm' with auto-selection.\n",
    "custom_methods <- mice::make.method(D_incomplete)\n",
    "custom_methods[c(\"Age\", \"Income\", \"Education\", \"MaritalStatus\", \"HealthStatus\")] <- \"gkp_pmm\"\n",
    "\n",
    "# `mice` does not directly support passing variable-specific parameters like this.\n",
    "# The standard way to achieve this is to create different versions of the function.\n",
    "# However, for demonstration, we will set global parameters that might be more\n",
    "# appropriate for the most complex variable (HealthStatus).\n",
    "\n",
    "imputed_data_tuned <- mice(\n",
    "  data = D_incomplete,\n",
    "  m = 3, maxit = 3,\n",
    "  method = custom_methods,\n",
    "  predictorMatrix = predictor_matrix,\n",
    "  donors = 7,             # A different number of donors\n",
    "  k_pre_clusters = 0,     # Disable pre-clustering this time\n",
    "  predictive_model = \"polr\", # This will be passed to EVERY call of gkp_pmm\n",
    "  pmm_pool_factor = 10,   # Use a larger initial pool\n",
    "  printFlag = TRUE,\n",
    "  seed = 123\n",
    ")\n",
    "\n",
    "cat(\"\\nTuned imputation completed.\\n\")\n",
    "cat(\"Note: The 'polr' model was used for all variables being imputed with gkp_pmm.\\n\")\n",
    "print(head(complete(imputed_data_tuned, 1)))\n",
    "\n",
    "# The best practice for variable-specific models is to create wrappers if needed,\n",
    "# or rely on the \"auto\" setting, which is designed for this purpose."
   ]
  },
  {
   "cell_type": "markdown",
   "id": "a4e530fd",
   "metadata": {},
   "source": [
    "can we have a usage method that check the efficiency and computation cost of our method with other methods in the literature, to evaluate the performance our method"
   ]
  },
  {
   "cell_type": "code",
   "execution_count": 17,
   "id": "33bc8331",
   "metadata": {
    "vscode": {
     "languageId": "r"
    }
   },
   "outputs": [
    {
     "name": "stderr",
     "output_type": "stream",
     "text": [
      "Warning message:\n",
      "\"packages 'mice', 'dplyr' are in use and will not be installed\"\n",
      "Installing packages into 'C:/Users/USER/AppData/Local/R/win-library/4.5'\n",
      "(as 'lib' is unspecified)\n",
      "\n",
      "also installing the dependencies 'farver', 'labeling', 'viridisLite', 'gtable', 'isoband', 'scales'\n",
      "\n",
      "\n"
     ]
    },
    {
     "name": "stdout",
     "output_type": "stream",
     "text": [
      "package 'farver' successfully unpacked and MD5 sums checked\n",
      "package 'labeling' successfully unpacked and MD5 sums checked\n",
      "package 'viridisLite' successfully unpacked and MD5 sums checked\n",
      "package 'gtable' successfully unpacked and MD5 sums checked\n",
      "package 'isoband' successfully unpacked and MD5 sums checked\n",
      "package 'scales' successfully unpacked and MD5 sums checked\n",
      "package 'ggplot2' successfully unpacked and MD5 sums checked\n",
      "package 'tidyr' successfully unpacked and MD5 sums checked\n"
     ]
    },
    {
     "name": "stderr",
     "output_type": "stream",
     "text": [
      "Warning message:\n",
      "\"cannot remove prior installation of package 'tidyr'\"\n",
      "Warning message in file.copy(savedcopy, lib, recursive = TRUE):\n",
      "\"problem copying C:\\Users\\USER\\AppData\\Local\\R\\win-library\\4.5\\00LOCK\\tidyr\\libs\\x64\\tidyr.dll to C:\\Users\\USER\\AppData\\Local\\R\\win-library\\4.5\\tidyr\\libs\\x64\\tidyr.dll: Permission denied\"\n",
      "Warning message:\n",
      "\"restored 'tidyr'\"\n"
     ]
    },
    {
     "name": "stdout",
     "output_type": "stream",
     "text": [
      "package 'microbenchmark' successfully unpacked and MD5 sums checked\n",
      "\n",
      "The downloaded binary packages are in\n",
      "\tC:\\Users\\USER\\AppData\\Local\\Temp\\RtmpW6HvYY\\downloaded_packages\n"
     ]
    }
   ],
   "source": [
    "# Install packages if you don't have them\n",
    "install.packages(c(\"mice\", \"dplyr\", \"ggplot2\", \"tidyr\", \"microbenchmark\"))"
   ]
  },
  {
   "cell_type": "code",
   "execution_count": 25,
   "id": "f7c27c68",
   "metadata": {
    "vscode": {
     "languageId": "r"
    }
   },
   "outputs": [],
   "source": [
    "# --- 1. SETUP: LIBRARIES AND FUNCTIONS ---\n",
    "\n",
    "# Install packages if you don't have them\n",
    "#install.packages(c(\"mice\", \"dplyr\", \"ggplot2\", \"tidyr\", \"microbenchmark\"))\n",
    "\n",
    "# Load Libraries\n",
    "library(mice)\n",
    "library(dplyr)      # For data manipulation\n",
    "library(ggplot2)    # For plotting results\n",
    "library(tidyr)      # For reshaping data\n",
    "library(microbenchmark) # For more precise timing\n",
    "\n",
    "# --- Include your GKP-PMM function here ---\n",
    "# (Using the final, robust version from our conversation)\n",
    "mice.impute.gkp_pmm <- function(y, ry, x, donors = 5, k_pre_clusters = 0, \n",
    "                                predictive_model = \"auto\", pmm_pool_factor = 5, ...) {\n",
    "  # ... [Paste the full, corrected gkp_pmm function code here] ...\n",
    "    # --- 1. Prepare data for imputation ---\n",
    "  x_donors_df <- as.data.frame(x[ry, , drop = FALSE])\n",
    "  y_donors <- y[ry]\n",
    "  x_recipients_df <- as.data.frame(x[!ry, , drop = FALSE])\n",
    "  \n",
    "  if (nrow(x_recipients_df) == 0) {\n",
    "    return(y[!ry])\n",
    "  }\n",
    "\n",
    "  # --- 2. Train a predictive model ---\n",
    "  model_type <- predictive_model\n",
    "  if (model_type == \"auto\") {\n",
    "    if (is.numeric(y)) model_type <- \"lm\"\n",
    "    else if (is.factor(y) && nlevels(y) == 2) model_type <- \"logit\"\n",
    "    else if (is.ordered(y)) model_type <- \"polr\"\n",
    "    else if (is.factor(y) && !is.ordered(y) && nlevels(y) > 2) model_type <- \"multinom\"\n",
    "    else model_type <- \"lm\" # Fallback for other data types\n",
    "  }\n",
    "\n",
    "  # *** NEW: Validate user-specified model against y's data type ***\n",
    "  # If the model is incompatible, warn the user and fall back to \"lm\".\n",
    "  if (model_type == \"polr\" && !is.ordered(y)) {\n",
    "    warning(paste0(\"'polr' model requested for non-ordered variable. Falling back to 'lm'.\"), call. = FALSE)\n",
    "    model_type <- \"lm\"\n",
    "  } else if (model_type == \"logit\" && (!is.factor(y) || nlevels(y) != 2)) {\n",
    "    warning(paste0(\"'logit' model requested for a non-binary variable. Falling back to 'lm'.\"), call. = FALSE)\n",
    "    model_type <- \"lm\"\n",
    "  } else if (model_type == \"multinom\" && (!is.factor(y) || nlevels(y) <= 2)) {\n",
    "    warning(paste0(\"'multinom' model requested for a variable that is not a factor with >2 levels. Falling back to 'lm'.\"), call. = FALSE)\n",
    "    model_type <- \"lm\"\n",
    "  } else if (model_type %in% c(\"polr\", \"logit\", \"multinom\") && !is.factor(y)) {\n",
    "      warning(paste0(\"'\", model_type, \"' model requested for a non-factor variable. Falling back to 'lm'.\"), call. = FALSE)\n",
    "      model_type <- \"lm\"\n",
    "  }\n",
    "\n",
    "\n",
    "  fit_data <- data.frame(y_target = y_donors)\n",
    "  fit_data <- cbind(fit_data, x_donors_df)\n",
    "  \n",
    "  if (length(unique(y_donors)) < 2) {\n",
    "      warning(\"Target 'y' has fewer than 2 unique levels. Falling back to random sampling from observed.\", call. = FALSE)\n",
    "      return(sample(y_donors, nrow(x_recipients_df), replace = TRUE))\n",
    "  }\n",
    "\n",
    "  switch(model_type,\n",
    "    \"lm\" = {\n",
    "      fit_data$y_target <- as.numeric(fit_data$y_target)\n",
    "      if (var(fit_data$y_target, na.rm = TRUE) == 0) {\n",
    "        return(sample(y_donors, nrow(x_recipients_df), replace = TRUE))\n",
    "      }\n",
    "      fit <- lm(y_target ~ ., data = fit_data)\n",
    "      y_pred_donors <- predict(fit, newdata = x_donors_df)\n",
    "      y_pred_recipients <- predict(fit, newdata = x_recipients_df)\n",
    "    },\n",
    "    \"logit\" = {\n",
    "      fit <- glm(y_target ~ ., data = fit_data, family = \"binomial\")\n",
    "      y_pred_donors <- predict(fit, newdata = x_donors_df, type = \"response\")\n",
    "      y_pred_recipients <- predict(fit, newdata = x_recipients_df, type = \"response\")\n",
    "    },\n",
    "    \"polr\" = {\n",
    "      fit <- MASS::polr(y_target ~ ., data = fit_data)\n",
    "      ranks <- 1:nlevels(y_donors)\n",
    "      pred_probs_donors <- predict(fit, newdata = x_donors_df, type = \"probs\")\n",
    "      pred_probs_recipients <- predict(fit, newdata = x_recipients_df, type = \"probs\")\n",
    "      y_pred_donors <- as.numeric(pred_probs_donors %*% ranks)\n",
    "      y_pred_recipients <- as.numeric(pred_probs_recipients %*% ranks)\n",
    "    },\n",
    "    \"multinom\" = {\n",
    "      fit <- nnet::multinom(y_target ~ ., data = fit_data, trace = FALSE)\n",
    "      ranks <- 1:nlevels(y_donors)\n",
    "      pred_probs_donors <- predict(fit, newdata = x_donors_df, type = \"probs\")\n",
    "      pred_probs_recipients <- predict(fit, newdata = x_recipients_df, type = \"probs\")\n",
    "      if (is.vector(pred_probs_donors)) pred_probs_donors <- matrix(pred_probs_donors, nrow = 1)\n",
    "      if (is.vector(pred_probs_recipients)) pred_probs_recipients <- matrix(pred_probs_recipients, nrow = 1)\n",
    "      y_pred_donors <- as.numeric(pred_probs_donors %*% ranks)\n",
    "      y_pred_recipients <- as.numeric(pred_probs_recipients %*% ranks)\n",
    "    },\n",
    "    {\n",
    "      warning(paste(\"Invalid predictive_model '\", model_type, \"'. Defaulting to 'lm'.\", sep=\"\"), call. = FALSE)\n",
    "      fit_data$y_target <- as.numeric(fit_data$y_target)\n",
    "      if (var(fit_data$y_target, na.rm = TRUE) == 0) {\n",
    "        return(sample(y_donors, nrow(x_recipients_df), replace = TRUE))\n",
    "      }\n",
    "      fit <- lm(y_target ~ ., data = fit_data)\n",
    "      y_pred_donors <- predict(fit, newdata = x_donors_df)\n",
    "      y_pred_recipients <- predict(fit, newdata = x_recipients_df)\n",
    "    }\n",
    "  )\n",
    "\n",
    "  # --- 3. Optional Pre-Clustering ---\n",
    "  if (k_pre_clusters > 0 && nrow(x_donors_df) >= k_pre_clusters) {\n",
    "    data_for_clustering <- rbind(x_donors_df, x_recipients_df)\n",
    "    for(col_name in colnames(data_for_clustering)) {\n",
    "      if (is.character(data_for_clustering[[col_name]])) {\n",
    "        data_for_clustering[[col_name]] <- as.factor(data_for_clustering[[col_name]])\n",
    "      }\n",
    "    }\n",
    "    kproto_fit <- clustMixType::kproto(data_for_clustering, k = k_pre_clusters, nstart = 1, type = \"gower\", verbose = FALSE)\n",
    "    donor_clusters <- kproto_fit$cluster[1:nrow(x_donors_df)]\n",
    "    recipient_clusters <- kproto_fit$cluster[(nrow(x_donors_df) + 1):nrow(data_for_clustering)]\n",
    "    filtered_x_donors_list <- vector(\"list\", nrow(x_recipients_df)); filtered_y_donors_list <- vector(\"list\", nrow(x_recipients_df)); filtered_y_pred_donors_list <- vector(\"list\", nrow(x_recipients_df))\n",
    "    for (i in 1:nrow(x_recipients_df)) {\n",
    "      current_recipient_cluster <- recipient_clusters[i]\n",
    "      cluster_donors_idx <- which(donor_clusters == current_recipient_cluster)\n",
    "      if (length(cluster_donors_idx) > 0) {\n",
    "        filtered_x_donors_list[[i]] <- x_donors_df[cluster_donors_idx, , drop = FALSE]\n",
    "        filtered_y_donors_list[[i]] <- y_donors[cluster_donors_idx]\n",
    "        filtered_y_pred_donors_list[[i]] <- y_pred_donors[cluster_donors_idx]\n",
    "      } else {\n",
    "        filtered_x_donors_list[[i]] <- x_donors_df; filtered_y_donors_list[[i]] <- y_donors; filtered_y_pred_donors_list[[i]] <- y_pred_donors\n",
    "      }\n",
    "    }\n",
    "  } else {\n",
    "    filtered_x_donors_list <- rep(list(x_donors_df), nrow(x_recipients_df)); filtered_y_donors_list <- rep(list(y_donors), nrow(x_recipients_df)); filtered_y_pred_donors_list <- rep(list(y_pred_donors), nrow(x_recipients_df))\n",
    "  }\n",
    "\n",
    "  # --- 4. Enhanced Donor Identification and Imputation ---\n",
    "  imputed_values <- vector(\"list\", length = nrow(x_recipients_df))\n",
    "\n",
    "  for (i in 1:nrow(x_recipients_df)) {\n",
    "    current_recipient_x <- x_recipients_df[i, , drop = FALSE]\n",
    "    current_recipient_y_pred <- y_pred_recipients[i]\n",
    "    current_donors_x_df <- filtered_x_donors_list[[i]]\n",
    "    current_donors_y <- filtered_y_donors_list[[i]]\n",
    "    current_donors_y_pred <- filtered_y_pred_donors_list[[i]]\n",
    "\n",
    "    if (nrow(current_donors_x_df) == 0) {\n",
    "      warning(\"No donors available for a recipient. Using random sample from all original observed y.\", call. = FALSE)\n",
    "      imputed_val <- sample(y_donors, 1)\n",
    "    } else {\n",
    "      pred_diffs <- abs(current_donors_y_pred - current_recipient_y_pred)\n",
    "      initial_pool_size <- min(max(donors * pmm_pool_factor, 10), nrow(current_donors_x_df))\n",
    "      ordered_donors_idx_by_pred <- order(pred_diffs, decreasing = FALSE, na.last = TRUE)\n",
    "      initial_donors_local_idx <- head(ordered_donors_idx_by_pred, initial_pool_size)\n",
    "      x_initial_donors_pool <- current_donors_x_df[initial_donors_local_idx, , drop = FALSE]\n",
    "      y_initial_donors_pool <- current_donors_y[initial_donors_local_idx]\n",
    "      combined_data_for_gower <- rbind(current_recipient_x, x_initial_donors_pool)\n",
    "      valid_cols_for_gower <- sapply(combined_data_for_gower, function(col) length(unique(stats::na.omit(col))) > 1)\n",
    "      \n",
    "      if (sum(valid_cols_for_gower) == 0) {\n",
    "        warning(\"No valid columns for Gower's distance. Falling back to simple PMM.\", call. = FALSE)\n",
    "        selected_donor_local_idx <- sample(initial_donors_local_idx, 1)\n",
    "        imputed_val <- current_donors_y[selected_donor_local_idx]\n",
    "      } else {\n",
    "        # *** FIX: Suppress benign warnings from daisy() ***\n",
    "        gower_dist_matrix <- suppressWarnings(cluster::daisy(\n",
    "            combined_data_for_gower[, valid_cols_for_gower, drop = FALSE], \n",
    "            metric = \"gower\", \n",
    "            stand = TRUE)\n",
    "        )\n",
    "        gower_distances <- as.matrix(gower_dist_matrix)[1, -1]\n",
    "        gower_distances[is.na(gower_distances)] <- max(gower_distances, na.rm = TRUE) + 1\n",
    "        num_final_donors <- min(donors, length(gower_distances))\n",
    "        final_donors_local_idx_in_pool <- head(order(gower_distances, decreasing = FALSE, na.last = TRUE), num_final_donors)\n",
    "        selected_donor_local_idx <- sample(final_donors_local_idx_in_pool, 1)\n",
    "        imputed_val <- y_initial_donors_pool[selected_donor_local_idx]\n",
    "      }\n",
    "    }\n",
    "    \n",
    "    imputed_values[[i]] <- imputed_val\n",
    "  }\n",
    "  \n",
    "  return(do.call(c, imputed_values))\n",
    "}"
   ]
  },
  {
   "cell_type": "code",
   "execution_count": 23,
   "id": "dfb80a39",
   "metadata": {
    "vscode": {
     "languageId": "r"
    }
   },
   "outputs": [
    {
     "name": "stderr",
     "output_type": "stream",
     "text": [
      "Installing package into 'C:/Users/USER/AppData/Local/R/win-library/4.5'\n",
      "(as 'lib' is unspecified)\n",
      "\n"
     ]
    },
    {
     "name": "stdout",
     "output_type": "stream",
     "text": [
      "package 'ranger' successfully unpacked and MD5 sums checked\n",
      "\n",
      "The downloaded binary packages are in\n",
      "\tC:\\Users\\USER\\AppData\\Local\\Temp\\RtmpW6HvYY\\downloaded_packages\n"
     ]
    }
   ],
   "source": [
    "install.packages(\"ranger\")"
   ]
  },
  {
   "cell_type": "code",
   "execution_count": 30,
   "id": "e2d59ea3",
   "metadata": {
    "vscode": {
     "languageId": "r"
    }
   },
   "outputs": [
    {
     "data": {
      "text/html": [
       "<table class=\"dataframe\">\n",
       "<caption>A data.frame: 6 × 4</caption>\n",
       "<thead>\n",
       "\t<tr><th></th><th scope=col>age</th><th scope=col>bmi</th><th scope=col>hyp</th><th scope=col>chl</th></tr>\n",
       "\t<tr><th></th><th scope=col>&lt;dbl&gt;</th><th scope=col>&lt;dbl&gt;</th><th scope=col>&lt;dbl&gt;</th><th scope=col>&lt;dbl&gt;</th></tr>\n",
       "</thead>\n",
       "<tbody>\n",
       "\t<tr><th scope=row>2</th><td>2</td><td>22.7</td><td>1</td><td>187</td></tr>\n",
       "\t<tr><th scope=row>5</th><td>1</td><td>20.4</td><td>1</td><td>113</td></tr>\n",
       "\t<tr><th scope=row>7</th><td>1</td><td>22.5</td><td>1</td><td>118</td></tr>\n",
       "\t<tr><th scope=row>8</th><td>1</td><td>30.1</td><td>1</td><td>187</td></tr>\n",
       "\t<tr><th scope=row>9</th><td>2</td><td>22.0</td><td>1</td><td>238</td></tr>\n",
       "\t<tr><th scope=row>13</th><td>3</td><td>21.7</td><td>1</td><td>206</td></tr>\n",
       "</tbody>\n",
       "</table>\n"
      ],
      "text/latex": [
       "A data.frame: 6 × 4\n",
       "\\begin{tabular}{r|llll}\n",
       "  & age & bmi & hyp & chl\\\\\n",
       "  & <dbl> & <dbl> & <dbl> & <dbl>\\\\\n",
       "\\hline\n",
       "\t2 & 2 & 22.7 & 1 & 187\\\\\n",
       "\t5 & 1 & 20.4 & 1 & 113\\\\\n",
       "\t7 & 1 & 22.5 & 1 & 118\\\\\n",
       "\t8 & 1 & 30.1 & 1 & 187\\\\\n",
       "\t9 & 2 & 22.0 & 1 & 238\\\\\n",
       "\t13 & 3 & 21.7 & 1 & 206\\\\\n",
       "\\end{tabular}\n"
      ],
      "text/markdown": [
       "\n",
       "A data.frame: 6 × 4\n",
       "\n",
       "| <!--/--> | age &lt;dbl&gt; | bmi &lt;dbl&gt; | hyp &lt;dbl&gt; | chl &lt;dbl&gt; |\n",
       "|---|---|---|---|---|\n",
       "| 2 | 2 | 22.7 | 1 | 187 |\n",
       "| 5 | 1 | 20.4 | 1 | 113 |\n",
       "| 7 | 1 | 22.5 | 1 | 118 |\n",
       "| 8 | 1 | 30.1 | 1 | 187 |\n",
       "| 9 | 2 | 22.0 | 1 | 238 |\n",
       "| 13 | 3 | 21.7 | 1 | 206 |\n",
       "\n"
      ],
      "text/plain": [
       "   age bmi  hyp chl\n",
       "2  2   22.7 1   187\n",
       "5  1   20.4 1   113\n",
       "7  1   22.5 1   118\n",
       "8  1   30.1 1   187\n",
       "9  2   22.0 1   238\n",
       "13 3   21.7 1   206"
      ]
     },
     "metadata": {},
     "output_type": "display_data"
    }
   ],
   "source": [
    "# --- 2. SIMULATION SETUP ---\n",
    "\n",
    "# Use a complete subset of the nhanes dataset for our ground truth\n",
    "data_complete <- na.omit(nhanes[, c(\"age\", \"bmi\", \"hyp\", \"chl\")])\n",
    "head(data_complete)\n",
    "\n",
    "# Simulation Parameters\n",
    "N_SIM <- 20 # Number of simulation runs. Increase to 50-100 for more stable results.\n",
    "PROP_MISSING <- 0.3 # Proportion of missing data to introduce in each variable.\n",
    "MICE_ITER <- 5 # Number of MICE iterations.\n",
    "\n",
    "# Methods to compare\n",
    "METHODS_TO_COMPARE <- c(\n",
    "    \"gkp_pmm\", # Our method (with pre-clustering)\n",
    "    \"gkp_pmm_no_clust\", # Our method (without pre-clustering)\n",
    "    \"pmm\",     # Standard Predictive Mean Matching\n",
    "    \"rf\",      # Random Forest\n",
    "    \"cart\"     # CART\n",
    ")"
   ]
  },
  {
   "cell_type": "code",
   "execution_count": 27,
   "id": "79b9deea",
   "metadata": {
    "vscode": {
     "languageId": "r"
    }
   },
   "outputs": [
    {
     "name": "stdout",
     "output_type": "stream",
     "text": [
      "Starting Monte Carlo Simulation...\n"
     ]
    },
    {
     "name": "stdout",
     "output_type": "stream",
     "text": [
      "  Completed Simulation Run: 1 / 20 \n"
     ]
    },
    {
     "name": "stderr",
     "output_type": "stream",
     "text": [
      "Warning message:\n",
      "\"There is only 1 candidate for pattern 4 ,it will be amputed with probability 0.3\"\n"
     ]
    },
    {
     "name": "stdout",
     "output_type": "stream",
     "text": [
      "  Completed Simulation Run: 2 / 20 \n"
     ]
    },
    {
     "name": "stderr",
     "output_type": "stream",
     "text": [
      "Warning message:\n",
      "\"There is only 1 candidate for pattern 4 ,it will be amputed with probability 0.3\"\n"
     ]
    },
    {
     "name": "stdout",
     "output_type": "stream",
     "text": [
      "  Completed Simulation Run: 3 / 20 \n",
      "  Completed Simulation Run: 4 / 20 \n",
      "  Completed Simulation Run: 5 / 20 \n",
      "  Completed Simulation Run: 6 / 20 \n"
     ]
    },
    {
     "name": "stderr",
     "output_type": "stream",
     "text": [
      "Warning message:\n",
      "\"Number of logged events: 2\"\n",
      "Warning message:\n",
      "\"Number of logged events: 3\"\n",
      "Warning message:\n",
      "\"Number of logged events: 3\"\n",
      "Warning message:\n",
      "\"Number of logged events: 4\"\n",
      "Warning message:\n",
      "\"Number of logged events: 5\"\n"
     ]
    },
    {
     "name": "stdout",
     "output_type": "stream",
     "text": [
      "  Completed Simulation Run: 7 / 20 \n"
     ]
    },
    {
     "name": "stderr",
     "output_type": "stream",
     "text": [
      "Warning message:\n",
      "\"There is only 1 candidate for pattern 3 ,it will be amputed with probability 0.3\"\n"
     ]
    },
    {
     "name": "stdout",
     "output_type": "stream",
     "text": [
      "  Completed Simulation Run: 8 / 20 \n"
     ]
    },
    {
     "name": "stderr",
     "output_type": "stream",
     "text": [
      "Warning message:\n",
      "\"There is only 1 candidate for pattern 1 ,it will be amputed with probability 0.3\"\n",
      "Warning message:\n",
      "\"Number of logged events: 5\"\n",
      "Warning message:\n",
      "\"Number of logged events: 4\"\n",
      "Warning message:\n",
      "\"Number of logged events: 2\"\n",
      "Warning message:\n",
      "\"Number of logged events: 2\"\n",
      "Warning message:\n",
      "\"Number of logged events: 4\"\n"
     ]
    },
    {
     "name": "stdout",
     "output_type": "stream",
     "text": [
      "  Completed Simulation Run: 9 / 20 \n"
     ]
    },
    {
     "name": "stderr",
     "output_type": "stream",
     "text": [
      "Warning message:\n",
      "\"There is only 1 candidate for pattern 4 ,it will be amputed with probability 0.3\"\n"
     ]
    },
    {
     "name": "stdout",
     "output_type": "stream",
     "text": [
      "  Completed Simulation Run: 10 / 20 \n"
     ]
    },
    {
     "name": "stderr",
     "output_type": "stream",
     "text": [
      "Warning message:\n",
      "\"There is only 1 candidate for pattern 4 ,it will be amputed with probability 0.3\"\n"
     ]
    },
    {
     "name": "stdout",
     "output_type": "stream",
     "text": [
      "  Completed Simulation Run: 11 / 20 \n",
      "  Completed Simulation Run: 12 / 20 \n"
     ]
    },
    {
     "name": "stderr",
     "output_type": "stream",
     "text": [
      "Warning message:\n",
      "\"There is only 1 candidate for pattern 2 ,it will be amputed with probability 0.3\"\n"
     ]
    },
    {
     "name": "stdout",
     "output_type": "stream",
     "text": [
      "  Completed Simulation Run: 13 / 20 \n"
     ]
    },
    {
     "name": "stderr",
     "output_type": "stream",
     "text": [
      "Warning message:\n",
      "\"There is only 1 candidate for pattern 1 ,it will be amputed with probability 0.3\"\n"
     ]
    },
    {
     "name": "stdout",
     "output_type": "stream",
     "text": [
      "  Completed Simulation Run: 14 / 20 \n"
     ]
    },
    {
     "name": "stderr",
     "output_type": "stream",
     "text": [
      "Warning message:\n",
      "\"There is only 1 candidate for pattern 4 ,it will be amputed with probability 0.3\"\n"
     ]
    },
    {
     "name": "stdout",
     "output_type": "stream",
     "text": [
      "  Completed Simulation Run: 15 / 20 \n",
      "  Completed Simulation Run: 16 / 20 \n",
      "  Completed Simulation Run: 17 / 20 \n",
      "  Completed Simulation Run: 18 / 20 \n"
     ]
    },
    {
     "name": "stderr",
     "output_type": "stream",
     "text": [
      "Warning message:\n",
      "\"There is only 1 candidate for pattern 4 ,it will be amputed with probability 0.3\"\n"
     ]
    },
    {
     "name": "stdout",
     "output_type": "stream",
     "text": [
      "  Completed Simulation Run: 19 / 20 \n",
      "  Completed Simulation Run: 20 / 20 \n"
     ]
    }
   ],
   "source": [
    "# --- 3. MAIN SIMULATION LOOP (CORRECTED) ---\n",
    "set.seed(20250906) # For reproducibility\n",
    "\n",
    "# Initialize lists to store results from each run\n",
    "results_accuracy_list <- list()\n",
    "results_time_list <- list()\n",
    "\n",
    "cat(\"Starting Monte Carlo Simulation...\\n\")\n",
    "for (i in 1:N_SIM) {\n",
    "  \n",
    "  # --- 3a. Introduce Missingness (Amputation) ---\n",
    "  # FINAL CORRECTION: The correct argument is 'mech'\n",
    "  data_amputed_obj <- ampute(data_complete, prop = PROP_MISSING, mech = \"MAR\")\n",
    "  data_missing <- data_amputed_obj$amp\n",
    "  \n",
    "  # Identify which values were made missing\n",
    "  missing_pattern <- is.na(data_missing) & !is.na(data_complete)\n",
    "  \n",
    "  # Initialize data frames for this run's results\n",
    "  run_accuracy <- data.frame()\n",
    "  run_time <- data.frame()\n",
    "  \n",
    "  # --- 3b. Loop through each imputation method ---\n",
    "  for (method in METHODS_TO_COMPARE) {\n",
    "    \n",
    "    # Configure method-specific parameters\n",
    "    method_name <- method\n",
    "    impute_method <- \"gkp_pmm\" # Base method name for our function\n",
    "    k_pre_clusters_val <- 3 # Default for gkp_pmm\n",
    "    \n",
    "    if (method == \"gkp_pmm_no_clust\") {\n",
    "      k_pre_clusters_val <- 0\n",
    "    } else if (method != \"gkp_pmm\") {\n",
    "      impute_method <- method # Use standard mice methods\n",
    "    }\n",
    "    \n",
    "    # --- 3c. Time the imputation ---\n",
    "    start_time <- Sys.time()\n",
    "    \n",
    "    imputed_obj <- mice(\n",
    "        data_missing, \n",
    "        m = 1, # Only need 1 imputation for performance evaluation\n",
    "        maxit = MICE_ITER, \n",
    "        method = impute_method, \n",
    "        k_pre_clusters = k_pre_clusters_val, # Custom arg for gkp_pmm\n",
    "        printFlag = FALSE # Keep console clean\n",
    "    )\n",
    "    \n",
    "    end_time <- Sys.time()\n",
    "    \n",
    "    # Store computation time\n",
    "    run_time <- rbind(run_time, data.frame(\n",
    "      sim_run = i,\n",
    "      method = method_name,\n",
    "      time_sec = as.numeric(difftime(end_time, start_time, units = \"secs\"))\n",
    "    ))\n",
    "    \n",
    "    # --- 3d. Evaluate imputation quality ---\n",
    "    data_imputed <- complete(imputed_obj, 1)\n",
    "    \n",
    "    # Loop through each variable to calculate error\n",
    "    for (col_name in colnames(data_complete)) {\n",
    "      # Only evaluate on variables that had missingness\n",
    "      if (any(missing_pattern[, col_name])) {\n",
    "        \n",
    "        true_vals <- data_complete[missing_pattern[, col_name], col_name]\n",
    "        imputed_vals <- data_imputed[missing_pattern[, col_name], col_name]\n",
    "        \n",
    "        metric_name <- NA\n",
    "        error_val <- NA\n",
    "        \n",
    "        if (is.numeric(true_vals)) {\n",
    "          # NRMSE for numeric variables\n",
    "          metric_name <- \"NRMSE\"\n",
    "          rmse <- sqrt(mean((true_vals - imputed_vals)^2))\n",
    "          error_val <- rmse / sd(data_complete[, col_name])\n",
    "        } else {\n",
    "          # Misclassification Rate for categorical/factor variables\n",
    "          metric_name <- \"Misclassification\"\n",
    "          error_val <- mean(true_vals != imputed_vals)\n",
    "        }\n",
    "        \n",
    "        run_accuracy <- rbind(run_accuracy, data.frame(\n",
    "          sim_run = i,\n",
    "          method = method_name,\n",
    "          variable = col_name,\n",
    "          metric = metric_name,\n",
    "          error = error_val\n",
    "        ))\n",
    "      }\n",
    "    }\n",
    "  } # End of methods loop\n",
    "  \n",
    "  results_accuracy_list[[i]] <- run_accuracy\n",
    "  results_time_list[[i]] <- run_time\n",
    "  \n",
    "  cat(paste(\"  Completed Simulation Run:\", i, \"/\", N_SIM, \"\\n\"))\n",
    "} # End of simulation loop\n",
    "\n",
    "# Combine results from all runs into single data frames\n",
    "results_accuracy <- bind_rows(results_accuracy_list)\n",
    "results_time <- bind_rows(results_time_list)"
   ]
  },
  {
   "cell_type": "code",
   "execution_count": 31,
   "id": "db082a77",
   "metadata": {
    "vscode": {
     "languageId": "r"
    }
   },
   "outputs": [
    {
     "name": "stdout",
     "output_type": "stream",
     "text": [
      "\n",
      "--- Computational Cost Summary ---\n",
      "\u001b[90m# A tibble: 5 × 3\u001b[39m\n",
      "  method           mean_time sd_time\n",
      "  \u001b[3m\u001b[90m<chr>\u001b[39m\u001b[23m                \u001b[3m\u001b[90m<dbl>\u001b[39m\u001b[23m   \u001b[3m\u001b[90m<dbl>\u001b[39m\u001b[23m\n",
      "\u001b[90m1\u001b[39m pmm                 0.030\u001b[4m4\u001b[24m 0.006\u001b[4m5\u001b[24m\u001b[4m4\u001b[24m\n",
      "\u001b[90m2\u001b[39m cart                0.070\u001b[4m6\u001b[24m 0.038\u001b[4m7\u001b[24m \n",
      "\u001b[90m3\u001b[39m gkp_pmm_no_clust    0.085\u001b[4m9\u001b[24m 0.023\u001b[4m2\u001b[24m \n",
      "\u001b[90m4\u001b[39m rf                  0.118  0.034\u001b[4m0\u001b[24m \n",
      "\u001b[90m5\u001b[39m gkp_pmm             0.296  0.096\u001b[4m9\u001b[24m \n"
     ]
    },
    {
     "name": "stderr",
     "output_type": "stream",
     "text": [
      "\u001b[1m\u001b[22m`summarise()` has grouped output by 'method', 'variable'. You can override\n",
      "using the `.groups` argument.\n"
     ]
    },
    {
     "name": "stdout",
     "output_type": "stream",
     "text": [
      "\n",
      "--- Imputation Quality Summary ---\n",
      "\u001b[90m# A tibble: 20 × 5\u001b[39m\n",
      "\u001b[90m# Groups:   method, variable [20]\u001b[39m\n",
      "   method           variable metric mean_error sd_error\n",
      "   \u001b[3m\u001b[90m<chr>\u001b[39m\u001b[23m            \u001b[3m\u001b[90m<chr>\u001b[39m\u001b[23m    \u001b[3m\u001b[90m<chr>\u001b[39m\u001b[23m       \u001b[3m\u001b[90m<dbl>\u001b[39m\u001b[23m    \u001b[3m\u001b[90m<dbl>\u001b[39m\u001b[23m\n",
      "\u001b[90m 1\u001b[39m gkp_pmm_no_clust age      NRMSE       0.775    0.632\n",
      "\u001b[90m 2\u001b[39m cart             age      NRMSE       0.850    0.704\n",
      "\u001b[90m 3\u001b[39m pmm              age      NRMSE       0.855    0.610\n",
      "\u001b[90m 4\u001b[39m gkp_pmm          age      NRMSE       0.933    0.653\n",
      "\u001b[90m 5\u001b[39m rf               age      NRMSE       1.23     0.447\n",
      "\u001b[90m 6\u001b[39m pmm              bmi      NRMSE       0.630    0.464\n",
      "\u001b[90m 7\u001b[39m gkp_pmm          bmi      NRMSE       0.896    0.445\n",
      "\u001b[90m 8\u001b[39m cart             bmi      NRMSE       1.01     0.785\n",
      "\u001b[90m 9\u001b[39m rf               bmi      NRMSE       1.16     0.830\n",
      "\u001b[90m10\u001b[39m gkp_pmm_no_clust bmi      NRMSE       1.16     0.786\n",
      "\u001b[90m11\u001b[39m gkp_pmm_no_clust chl      NRMSE       0.922    0.546\n",
      "\u001b[90m12\u001b[39m pmm              chl      NRMSE       1.06     0.886\n",
      "\u001b[90m13\u001b[39m gkp_pmm          chl      NRMSE       1.33     0.789\n",
      "\u001b[90m14\u001b[39m rf               chl      NRMSE       1.54     0.891\n",
      "\u001b[90m15\u001b[39m cart             chl      NRMSE       1.57     0.962\n",
      "\u001b[90m16\u001b[39m rf               hyp      NRMSE       1.08     0.861\n",
      "\u001b[90m17\u001b[39m pmm              hyp      NRMSE       1.18     0.954\n",
      "\u001b[90m18\u001b[39m gkp_pmm_no_clust hyp      NRMSE       1.33     0.909\n",
      "\u001b[90m19\u001b[39m cart             hyp      NRMSE       1.34     0.932\n",
      "\u001b[90m20\u001b[39m gkp_pmm          hyp      NRMSE       1.45     0.850\n"
     ]
    },
    {
     "data": {
      "image/png": "[encoded data removed]",
      "text/plain": [
       "plot without title"
      ]
     },
     "metadata": {
      "image/png": {
       "height": 420,
       "width": 420
      }
     },
     "output_type": "display_data"
    },
    {
     "data": {
      "image/png": "[encoded data removed]",
      "text/plain": [
       "plot without title"
      ]
     },
     "metadata": {
      "image/png": {
       "height": 420,
       "width": 420
      }
     },
     "output_type": "display_data"
    }
   ],
   "source": [
    "# --- 4. ANALYZE AND VISUALIZE RESULTS ---\n",
    "\n",
    "# --- 4a. Computational Cost ---\n",
    "time_summary <- results_time %>%\n",
    "  group_by(method) %>%\n",
    "  summarise(\n",
    "    mean_time = mean(time_sec),\n",
    "    sd_time = sd(time_sec)\n",
    "  ) %>%\n",
    "  arrange(mean_time)\n",
    "\n",
    "cat(\"\\n--- Computational Cost Summary ---\\n\")\n",
    "print(time_summary)\n",
    "\n",
    "ggplot(results_time, aes(x = reorder(method, time_sec), y = time_sec, fill = method)) +\n",
    "  geom_boxplot() +\n",
    "  labs(\n",
    "    title = \"Computational Cost of Imputation Methods\",\n",
    "    subtitle = paste(N_SIM, \"simulation runs\"),\n",
    "    x = \"Imputation Method\",\n",
    "    y = \"Time (seconds)\"\n",
    "  ) +\n",
    "  theme_minimal() +\n",
    "  coord_flip()\n",
    "\n",
    "\n",
    "# --- 4b. Imputation Quality ---\n",
    "accuracy_summary <- results_accuracy %>%\n",
    "  group_by(method, variable, metric) %>%\n",
    "  summarise(\n",
    "    mean_error = mean(error),\n",
    "    sd_error = sd(error)\n",
    "  ) %>%\n",
    "  arrange(variable, mean_error)\n",
    "\n",
    "cat(\"\\n--- Imputation Quality Summary ---\\n\")\n",
    "print(accuracy_summary)\n",
    "\n",
    "ggplot(results_accuracy, aes(x = reorder(method, error), y = error, fill = method)) +\n",
    "  geom_boxplot() +\n",
    "  facet_wrap(~variable, scales = \"free\") +\n",
    "  labs(\n",
    "    title = \"Imputation Quality of Methods\",\n",
    "    subtitle = \"Lower error is better\",\n",
    "    x = \"Imputation Method\",\n",
    "    y = \"Error (NRMSE or Misclassification Rate)\"\n",
    "  ) +\n",
    "  theme_minimal() +\n",
    "  coord_flip()"
   ]
  },
  {
   "cell_type": "code",
   "execution_count": 29,
   "id": "f9a7eaea",
   "metadata": {
    "vscode": {
     "languageId": "r"
    }
   },
   "outputs": [
    {
     "name": "stdout",
     "output_type": "stream",
     "text": [
      "\n",
      "--- Downstream Model Evaluation ---\n"
     ]
    },
    {
     "name": "stdout",
     "output_type": "stream",
     "text": [
      "\n",
      "Coefficients from True (Complete) Data:\n",
      "              Estimate Std. Error    t value    Pr(>|t|)\n",
      "(Intercept) -80.971007  61.772059 -1.3108031 0.222383321\n",
      "age          55.210099  14.289580  3.8636614 0.003825613\n",
      "bmi           7.065353   2.052222  3.4427822 0.007358103\n",
      "hyp          -6.221611  23.177214 -0.2684365 0.794414891\n"
     ]
    },
    {
     "name": "stderr",
     "output_type": "stream",
     "text": [
      "Warning message:\n",
      "\"There is only 1 candidate for pattern 1 ,it will be amputed with probability 0.3\"\n",
      "Warning message:\n",
      "\"There is only 1 candidate for pattern 4 ,it will be amputed with probability 0.3\"\n"
     ]
    },
    {
     "name": "stdout",
     "output_type": "stream",
     "text": [
      "\n",
      "--- Pooled Results for method: gkp_pmm ---\n",
      "         term   estimate std.error  statistic       df    p.value\n",
      "1 (Intercept) -64.148154 68.070354 -0.9423802 6.731622 0.37857818\n",
      "2         age  42.330073 28.363427  1.4924174 2.563413 0.24711828\n",
      "3         bmi   6.142108  2.246875  2.7336219 6.296937 0.03240334\n",
      "4         hyp  20.398735 54.060643  0.3773306 1.644666 0.74893260\n",
      "\n",
      "--- Pooled Results for method: gkp_pmm_no_clust ---\n",
      "         term   estimate std.error  statistic       df    p.value\n",
      "1 (Intercept) -51.994952 77.315605 -0.6725027 6.405264 0.52477035\n",
      "2         age  41.266234 23.097050  1.7866453 4.521405 0.14021284\n",
      "3         bmi   6.211754  2.407413  2.5802604 7.171535 0.03571246\n",
      "4         hyp   6.572872 44.530925  0.1476024 2.743814 0.89282534\n",
      "\n",
      "--- Pooled Results for method: pmm ---\n",
      "         term   estimate std.error  statistic       df    p.value\n",
      "1 (Intercept) -58.863631 74.244980 -0.7928298 5.615811 0.46004861\n",
      "2         age  57.680295 20.627969  2.7962179 4.398107 0.04402272\n",
      "3         bmi   6.732211  2.229379  3.0197692 7.188584 0.01878573\n",
      "4         hyp -18.121241 40.566494 -0.4467046 2.600228 0.68962315\n",
      "\n",
      "--- Pooled Results for method: rf ---\n",
      "         term   estimate std.error  statistic       df    p.value\n",
      "1 (Intercept) -50.576292 74.699555 -0.6770628 6.400151 0.52207467\n",
      "2         age  38.687315 29.710750  1.3021319 2.715427 0.29231610\n",
      "3         bmi   6.062307  2.182487  2.7777059 7.443539 0.02576054\n",
      "4         hyp  14.806998 54.957941  0.2694242 1.838596 0.81479343\n",
      "\n",
      "--- Pooled Results for method: cart ---\n",
      "         term   estimate std.error   statistic       df    p.value\n",
      "1 (Intercept) -67.653076 81.025857 -0.83495663 5.761124 0.43698938\n",
      "2         age  53.611235 20.409517  2.62677627 5.590337 0.04193858\n",
      "3         bmi   6.599241  2.447919  2.69585806 6.735110 0.03197336\n",
      "4         hyp  -3.006764 32.958274 -0.09122943 4.708134 0.93106343\n"
     ]
    }
   ],
   "source": [
    "# --- 5. EVALUATE DOWNSTREAM MODEL PERFORMANCE (CORRECTED) ---\n",
    "\n",
    "# --- 5a. Gold Standard: Model on complete data ---\n",
    "model_true <- lm(chl ~ age + bmi + hyp, data = data_complete)\n",
    "true_coeffs <- summary(model_true)$coefficients\n",
    "\n",
    "cat(\"\\n--- Downstream Model Evaluation ---\\n\")\n",
    "cat(\"\\nCoefficients from True (Complete) Data:\\n\")\n",
    "print(true_coeffs)\n",
    "\n",
    "# --- 5b. Models on imputed data ---\n",
    "# CORRECTED the 'mecha' argument to 'mechanism'\n",
    "data_missing <- ampute(data_complete, prop = PROP_MISSING, mech = \"MAR\")$amp\n",
    "pooled_results <- list()\n",
    "\n",
    "for (method in METHODS_TO_COMPARE) {\n",
    "    method_name <- method\n",
    "    impute_method <- \"gkp_pmm\"\n",
    "    k_pre_clusters_val <- 3 \n",
    "    \n",
    "    if (method == \"gkp_pmm_no_clust\") {\n",
    "      k_pre_clusters_val <- 0\n",
    "    } else if (method != \"gkp_pmm\") {\n",
    "      impute_method <- method\n",
    "    }\n",
    "    \n",
    "    imputed_obj_pooled <- mice(\n",
    "        data_missing, \n",
    "        m = 5, # Use multiple imputations for pooling\n",
    "        maxit = MICE_ITER, \n",
    "        method = impute_method, \n",
    "        k_pre_clusters = k_pre_clusters_val,\n",
    "        printFlag = FALSE\n",
    "    )\n",
    "    \n",
    "    model_fit <- with(imputed_obj_pooled, lm(chl ~ age + bmi + hyp))\n",
    "    pooled_model <- pool(model_fit)\n",
    "    \n",
    "    cat(paste(\"\\n--- Pooled Results for method:\", method_name, \"---\\n\"))\n",
    "    print(summary(pooled_model))\n",
    "    \n",
    "    pooled_results[[method_name]] <- summary(pooled_model)\n",
    "}"
   ]
  }
 ],
 "metadata": {
  "kernelspec": {
   "display_name": "R",
   "language": "R",
   "name": "ir"
  },
  "language_info": {
   "codemirror_mode": "r",
   "file_extension": ".r",
   "mimetype": "text/x-r-source",
   "name": "R",
   "pygments_lexer": "r",
   "version": "4.5.1"
  }
 },
 "nbformat": 4,
 "nbformat_minor": 5
}
